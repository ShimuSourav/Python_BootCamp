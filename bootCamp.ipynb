{
 "cells": [
  {
   "cell_type": "code",
   "execution_count": 2,
   "metadata": {},
   "outputs": [
    {
     "name": "stdout",
     "output_type": "stream",
     "text": [
      "Enter the length in centimeter: 100\n",
      "100 = 1.0 meter and 0.001 kilometer\n"
     ]
    }
   ],
   "source": [
    "#1 - enter length in centimeter and convert it to meter and kilometer\n",
    "\n",
    "len_cm = input(\"Enter the length in centimeter: \")\n",
    "len_m = int(len_cm) / 100\n",
    "len_km = int(len_cm) / 100000\n",
    "print(str(len_cm) + \" = \" + str(len_m) + \" meter and \" + str(len_km) + \" kilometer\")"
   ]
  },
  {
   "cell_type": "code",
   "execution_count": 3,
   "metadata": {},
   "outputs": [
    {
     "name": "stdout",
     "output_type": "stream",
     "text": [
      "Enter temp in celsius: 10\n",
      "10.0 celsius = 50.0 fahrenheit\n"
     ]
    }
   ],
   "source": [
    "#2 - enter temperature in celsius and convert it to fahrenheit\n",
    "\n",
    "temp_cel = float(input(\"Enter temp in celsius: \"))\n",
    "temp_f = temp_cel * 9 / 5 + 32\n",
    "print(str(temp_cel) + \" celsius = \" + str(temp_f) + \" fahrenheit\")"
   ]
  },
  {
   "cell_type": "code",
   "execution_count": 4,
   "metadata": {},
   "outputs": [
    {
     "name": "stdout",
     "output_type": "stream",
     "text": [
      "Enter two numbers: \n",
      "2\n",
      "3\n",
      "2 to the power 3 = 8\n"
     ]
    }
   ],
   "source": [
    "#3 - python program to find power of any number\n",
    "\n",
    "print(\"Enter two numbers: \")\n",
    "\n",
    "x = int(input())\n",
    "y = int(input())\n",
    "print(str(x) + \" to the power \" + str(y) + \" = \" + str(x ** y))"
   ]
  },
  {
   "cell_type": "code",
   "execution_count": 5,
   "metadata": {},
   "outputs": [
    {
     "name": "stdout",
     "output_type": "stream",
     "text": [
      "Enter a number: 3\n",
      "3 is Odd\n",
      "3 is Odd\n"
     ]
    }
   ],
   "source": [
    "#4 - checking a number is even or odd\n",
    "\n",
    "#using modulus operator\n",
    "a = int(input(\"Enter a number: \"))\n",
    "if a % 2 == 0:\n",
    "    print(str(a) + \" is Even\")\n",
    "else:\n",
    "    print(str(a) + \" is Odd\")\n",
    "    \n",
    "#using bitwise operator\n",
    "if(a & 1 == 1):\n",
    "    print(str(a) + \" is Odd\")\n",
    "else:\n",
    "    print(str(a) + \" is Even\") "
   ]
  },
  {
   "cell_type": "code",
   "execution_count": 6,
   "metadata": {},
   "outputs": [
    {
     "name": "stdout",
     "output_type": "stream",
     "text": [
      "Enter a character: w\n"
     ]
    },
    {
     "data": {
      "text/plain": [
       "True"
      ]
     },
     "execution_count": 6,
     "metadata": {},
     "output_type": "execute_result"
    }
   ],
   "source": [
    "#5 - checking wheather a character is alphabet or not\n",
    "\n",
    "char = input(\"Enter a character: \")\n",
    "char.isalpha()"
   ]
  },
  {
   "cell_type": "code",
   "execution_count": 7,
   "metadata": {},
   "outputs": [
    {
     "name": "stdout",
     "output_type": "stream",
     "text": [
      "4\n",
      "5\n",
      "6\n",
      "Maximum between these three: 6\n"
     ]
    }
   ],
   "source": [
    "#6 - finding maximum between three numbers\n",
    "\n",
    "a = input()\n",
    "b = input()\n",
    "c = input()\n",
    "\n",
    "print(\"Maximum between these three: \" + str(max(a, b, c)))"
   ]
  },
  {
   "cell_type": "code",
   "execution_count": 8,
   "metadata": {},
   "outputs": [
    {
     "name": "stdout",
     "output_type": "stream",
     "text": [
      "Enter a number: 8362\n"
     ]
    },
    {
     "data": {
      "text/plain": [
       "4"
      ]
     },
     "execution_count": 8,
     "metadata": {},
     "output_type": "execute_result"
    }
   ],
   "source": [
    "#7 - counting number of digits in a number\n",
    "\n",
    "num = input(\"Enter a number: \")\n",
    "len(num)"
   ]
  },
  {
   "cell_type": "code",
   "execution_count": 9,
   "metadata": {},
   "outputs": [
    {
     "name": "stdout",
     "output_type": "stream",
     "text": [
      "Enter a string: malayalam\n",
      "Palindrome\n"
     ]
    }
   ],
   "source": [
    "#8 - checking palindrome (string)\n",
    "\n",
    "my_str = input(\"Enter a string: \")\n",
    "\n",
    "if (my_str == my_str[::-1]):\n",
    "    print(\"Palindrome\")\n",
    "else:\n",
    "    print(\"Not Palindrome\")"
   ]
  },
  {
   "cell_type": "code",
   "execution_count": 10,
   "metadata": {},
   "outputs": [
    {
     "name": "stdout",
     "output_type": "stream",
     "text": [
      "Total no. of Vowel = 5 and Consonant = 7\n"
     ]
    }
   ],
   "source": [
    "#9 - count total number of vowels and consonants in a string\n",
    "\n",
    "string = \"Trust me, I'm a liar\"\n",
    "vowels = list(\"aeiou\")\n",
    "consonants = list(\"bcdfghjklmnpqrstvwxyz\")\n",
    "\n",
    "v = 0\n",
    "c = 0\n",
    "\n",
    "for i in string:\n",
    "    if i in vowels:\n",
    "        v += 1\n",
    "    elif i in consonants:\n",
    "        c += 1\n",
    "        \n",
    "print(\"Total no. of Vowel = \" + str(v) + \" and Consonant = \" + str(c))"
   ]
  },
  {
   "cell_type": "code",
   "execution_count": 1,
   "metadata": {
    "scrolled": true
   },
   "outputs": [
    {
     "name": "stdout",
     "output_type": "stream",
     "text": [
      "100\n"
     ]
    }
   ],
   "source": [
    "#10 - declare a variable without breaking any of the rules\n",
    "\n",
    "a = 100\n",
    "print(a)"
   ]
  },
  {
   "cell_type": "code",
   "execution_count": 1,
   "metadata": {},
   "outputs": [
    {
     "name": "stdout",
     "output_type": "stream",
     "text": [
      "There are some keywords in Python we can't use them as variables. \n",
      "Because Python uses them for other purposes.\n"
     ]
    }
   ],
   "source": [
    "#11 - declare this variable “break = 50”. Which rule does it break ?\n",
    "\n",
    "print(\"There are some keywords in Python we can't use them as variables. \\nBecause Python uses them for other purposes.\")"
   ]
  },
  {
   "cell_type": "code",
   "execution_count": 2,
   "metadata": {},
   "outputs": [
    {
     "name": "stdout",
     "output_type": "stream",
     "text": [
      "Benny\n",
      "12345\n"
     ]
    }
   ],
   "source": [
    "#12 - Make changes to these variables so that they no longer break the rules to 1. phone$number = 12345 2. 123Name = “Benny”\n",
    "\n",
    "phone_number = 12345\n",
    "name = \"Benny\"\n",
    "print(name)\n",
    "print(phone_number)"
   ]
  },
  {
   "cell_type": "code",
   "execution_count": null,
   "metadata": {
    "collapsed": true
   },
   "outputs": [],
   "source": [
    "#13"
   ]
  },
  {
   "cell_type": "code",
   "execution_count": null,
   "metadata": {
    "collapsed": true
   },
   "outputs": [],
   "source": [
    "#14"
   ]
  },
  {
   "cell_type": "code",
   "execution_count": 5,
   "metadata": {},
   "outputs": [
    {
     "name": "stdout",
     "output_type": "stream",
     "text": [
      "(10, 'py', 12, 'rock')\n",
      "[10, 'py', 12, 'rock']\n",
      "['py', 12, 'rock']\n",
      "('py', 12, 'rock')\n"
     ]
    }
   ],
   "source": [
    "#15-16-17 \n",
    "\n",
    "#program to create a tuple of 4 elements\n",
    "my_tuple = (10, \"py\", 12, \"rock\")\n",
    "print(my_tuple)\n",
    "\n",
    "##converting this tuple into a list\n",
    "my_list = list(my_tuple)\n",
    "print(my_list)\n",
    "\n",
    "#deleting the first element in this list and converting it back to tuple\n",
    "del my_list[0]\n",
    "print(my_list)\n",
    "\n",
    "my_tuple2 = tuple(my_list)\n",
    "print(my_tuple2)"
   ]
  },
  {
   "cell_type": "code",
   "execution_count": 6,
   "metadata": {},
   "outputs": [
    {
     "name": "stdout",
     "output_type": "stream",
     "text": [
      "2\n",
      "3\n",
      "4\n",
      "14\n",
      "same answer\n"
     ]
    }
   ],
   "source": [
    "#18\n",
    "\n",
    "\"\"\"Solve this equation manually.\n",
    "            2 + 3 * 4\n",
    "      \tNow write a program to solve this.\n",
    "         \tDid you get the same answer?\"\"\"\n",
    "\n",
    "2 + 3 * 4\n",
    "\n",
    "a = int(input())\n",
    "b = int(input())\n",
    "c = int(input())\n",
    "\n",
    "res = a + b * c\n",
    "print(str(res))\n",
    "\n",
    "if (2 + 3 * 4 == res):\n",
    "    print(\"same answer\")\n",
    "else:\n",
    "    print(\"not same\")"
   ]
  },
  {
   "cell_type": "code",
   "execution_count": 7,
   "metadata": {},
   "outputs": [
    {
     "data": {
      "text/plain": [
       "True"
      ]
     },
     "execution_count": 7,
     "metadata": {},
     "output_type": "execute_result"
    }
   ],
   "source": [
    "#19 - use a logical operator in between two comparison operators and return the value as true\n",
    "\n",
    "(8 > 7) and ('a' != 'b')"
   ]
  },
  {
   "cell_type": "code",
   "execution_count": 8,
   "metadata": {},
   "outputs": [
    {
     "name": "stdout",
     "output_type": "stream",
     "text": [
      "[1, 2, ['hi', 'py', 3], 'hello', 10]\n"
     ]
    }
   ],
   "source": [
    "#20\n",
    "\n",
    "#a program to create a list of 5 elements Update the value at 3rd element of the list Create another list of 3 elements. \n",
    "#now creating a final result as a concatenation of the first two lists\n",
    "\n",
    "aList = [1, 2, 3, \"hello\", 10]\n",
    "bList = [\"hi\", \"py\", 3]\n",
    "aList[2] = bList\n",
    "\n",
    "print(aList)"
   ]
  },
  {
   "cell_type": "code",
   "execution_count": 9,
   "metadata": {},
   "outputs": [
    {
     "name": "stdout",
     "output_type": "stream",
     "text": [
      "{'C': 2, 'Python': 3, 'R': 4, 'Java': 5, 'PHP': 1}\n",
      "{'C': 2, 'Python': 3, 'R': 4, 'Java': 5, 'PHP': 6}\n",
      "{'C': 2, 'Python': 3, 'R': 4, 'Java': 5, 'PHP': 6}\n",
      "{}\n"
     ]
    }
   ],
   "source": [
    "#21 \n",
    "\n",
    "#a program to create a dictionary with 5 key-value pairs \n",
    "aDic = {\"C\" : 2, \"Python\" : 3, \"R\" : 4, \"Java\" : 5, \"PHP\" : 1}\n",
    "print(aDic)\n",
    "\n",
    "#Updating the value of a key\n",
    "aDic[\"PHP\"] = 6\n",
    "print(aDic)\n",
    "\n",
    "#Copy this dictionary to another dictionary and clear the first dictionary\n",
    "bDic = aDic.copy()\n",
    "print(bDic)\n",
    "\n",
    "aDic.clear()\n",
    "print(aDic)"
   ]
  },
  {
   "cell_type": "code",
   "execution_count": 10,
   "metadata": {},
   "outputs": [
    {
     "name": "stdout",
     "output_type": "stream",
     "text": [
      "Enter a number: 5\n",
      "5 is less than 10\n"
     ]
    }
   ],
   "source": [
    "#22 - a program to check if a number is less than 10\n",
    "\n",
    "a = int(input(\"Enter a number: \"))\n",
    "if a < 10:\n",
    "    print(str(a) + \" is less than 10\")\n",
    "else: \n",
    "    print(str(a) + \" is not less than 10\")"
   ]
  },
  {
   "cell_type": "code",
   "execution_count": 11,
   "metadata": {},
   "outputs": [
    {
     "name": "stdout",
     "output_type": "stream",
     "text": [
      "Enter a number: 100\n",
      "This number divisible by 10 and 50 but not 30\n"
     ]
    }
   ],
   "source": [
    "#23\n",
    "\n",
    "\"\"\" a program to check if a number is divisible by both 10 as well as 50. \n",
    "    If it is divisible by 30 as well, print “This number is divisible by 10, 50 and 30”. \n",
    "    If not, print “This number divisible by 10 and 50 but not 30”\n",
    "\"\"\"\n",
    "\n",
    "a = int(input(\"Enter a number: \"))\n",
    "if (a % 10 == 0 and a % 50 == 0):\n",
    "    if (a % 30 == 0):\n",
    "        print(\"This number is divisible by 10, 50 and 30\")\n",
    "    else:\n",
    "        print(\"This number divisible by 10 and 50 but not 30\")"
   ]
  },
  {
   "cell_type": "code",
   "execution_count": 12,
   "metadata": {},
   "outputs": [
    {
     "name": "stdout",
     "output_type": "stream",
     "text": [
      "Enter a number: 5\n",
      "Factorial of the given number: 120\n"
     ]
    }
   ],
   "source": [
    "#24 - a program to calculate factorial number(manually)\n",
    "\n",
    "n = int(input(\"Enter a number: \"))\n",
    "fact = 1\n",
    "while n > 0:\n",
    "    fact = fact * n\n",
    "    n = n - 1\n",
    "\n",
    "print(\"Factorial of the given number: \" + str(fact))"
   ]
  },
  {
   "cell_type": "code",
   "execution_count": 13,
   "metadata": {},
   "outputs": [
    {
     "name": "stdout",
     "output_type": "stream",
     "text": [
      "Enter a number: 5\n",
      "Factorial of the given number: 120\n"
     ]
    }
   ],
   "source": [
    "#24 - a program to calculate factorial number(using function)\n",
    "\n",
    "def factorial(n):\n",
    "    if(n <= 1):\n",
    "        return 1\n",
    "    else:\n",
    "        return (n * factorial(n-1))\n",
    "\n",
    "n = int(input(\"Enter a number: \"))\n",
    "print(\"Factorial of the given number: \" + str(factorial(n)))"
   ]
  },
  {
   "cell_type": "code",
   "execution_count": 14,
   "metadata": {},
   "outputs": [
    {
     "name": "stdout",
     "output_type": "stream",
     "text": [
      "10\n",
      "Fibonacci sequence upto 10 :\n",
      "0  1  1  2  3  5  8  13  21  34  "
     ]
    }
   ],
   "source": [
    "#25 - a program to print Fibonacci series up to n terms (without recursion)\n",
    "\n",
    "n = int(input())\n",
    "\n",
    "# first two terms\n",
    "n1 = 0\n",
    "n2 = 1\n",
    "count = 0\n",
    "\n",
    "if n <= 0:\n",
    "   print(\"Please enter a positive integer\")\n",
    "elif n == 1:\n",
    "   print(\"Fibonacci sequence upto\",n,\":\")\n",
    "   print(n1)\n",
    "else:\n",
    "   print(\"Fibonacci sequence upto\",n,\":\")\n",
    "   while count < n:\n",
    "       print(n1, end='  ')\n",
    "       nth = n1 + n2\n",
    "       # update values\n",
    "       n1 = n2\n",
    "       n2 = nth\n",
    "       count += 1"
   ]
  },
  {
   "cell_type": "code",
   "execution_count": 16,
   "metadata": {},
   "outputs": [
    {
     "name": "stdout",
     "output_type": "stream",
     "text": [
      "Enter number of terms: 10\n",
      "Fibonacci sequence upto: 10\n",
      "0  1  1  2  3  5  8  13  21  34  "
     ]
    }
   ],
   "source": [
    "#25 - a program to print Fibonacci series up to n terms (using recursion)\n",
    "\n",
    "def fibonacci(n):\n",
    "    if(n <= 1):\n",
    "        return n\n",
    "    else:\n",
    "        return(fibonacci(n-1) + fibonacci(n-2))\n",
    "n = int(input(\"Enter number of terms: \"))\n",
    "print(\"Fibonacci sequence upto: \" + str(n))\n",
    "for i in range(n):\n",
    "    print (fibonacci(i), end = '  ')"
   ]
  },
  {
   "cell_type": "code",
   "execution_count": null,
   "metadata": {
    "collapsed": true
   },
   "outputs": [],
   "source": [
    "#26"
   ]
  },
  {
   "cell_type": "code",
   "execution_count": 17,
   "metadata": {},
   "outputs": [
    {
     "name": "stdout",
     "output_type": "stream",
     "text": [
      "Enter the number of stars to be printed: 6\n",
      "* * * * * * "
     ]
    }
   ],
   "source": [
    "#27\n",
    "\n",
    "\"\"\"Star Line\n",
    "Print as many stars as given in input\n",
    "Sample input:\n",
    "6\n",
    "Sample output\n",
    "******\n",
    "\"\"\"\n",
    "\n",
    "num_stars = int(input(\"Enter the number of stars to be printed: \"))\n",
    "count = 0\n",
    "\n",
    "while num_stars > 0:\n",
    "    print(\"*\", end = \" \")\n",
    "    num_stars -= 1"
   ]
  },
  {
   "cell_type": "code",
   "execution_count": 18,
   "metadata": {},
   "outputs": [
    {
     "name": "stdout",
     "output_type": "stream",
     "text": [
      "4\n",
      "6\n",
      "* * * * * * \n",
      "* * * * * * \n",
      "* * * * * * \n",
      "* * * * * * \n"
     ]
    }
   ],
   "source": [
    "#28\n",
    "\n",
    "\"\"\"Rectangle using solution of PROBLEM 1) Star Line\n",
    "Sample input:\n",
    "4\n",
    "6\n",
    "Sample output\n",
    "******\n",
    "******\n",
    "******\n",
    "******\n",
    " \n",
    "Hint: 4 and 6 means 4 lines of stars having 6 stars in each line.\n",
    "\"\"\"\n",
    "\n",
    "r = int(input()) #row\n",
    "c = int(input()) #column\n",
    "\n",
    "for i in range(r): \n",
    "  for j in range(c):  \n",
    "    print(\"* \", end='')\n",
    "  print() "
   ]
  },
  {
   "cell_type": "code",
   "execution_count": 28,
   "metadata": {},
   "outputs": [
    {
     "name": "stdout",
     "output_type": "stream",
     "text": [
      "4\n",
      "*\n",
      "**\n",
      "***\n",
      "****\n"
     ]
    }
   ],
   "source": [
    "#29\n",
    "\n",
    "\"\"\"\n",
    "Triangle - Left Justified\n",
    "Draw right angled triangle of given height\n",
    "Sample input:\n",
    "4\n",
    "Sample output\n",
    "*\n",
    "**\n",
    "***\n",
    "****\n",
    " \n",
    "Hint: One loop for lines, another loop for printing i number of starts when it is line i.\n",
    "\"\"\"\n",
    "\n",
    "rows = int(input())\n",
    "for i in range(rows):\n",
    "        print('*' * (i+1))"
   ]
  },
  {
   "cell_type": "code",
   "execution_count": 22,
   "metadata": {},
   "outputs": [
    {
     "name": "stdout",
     "output_type": "stream",
     "text": [
      "4\n",
      "    *\n",
      "   **\n",
      "  ***\n",
      " ****\n"
     ]
    }
   ],
   "source": [
    "#30\n",
    "\n",
    "\"\"\"Triangle - Right Justified\n",
    "Draw right angled triangle of given height\n",
    "Sample input:\n",
    "4\n",
    "Sample output\n",
    "   *\n",
    "  **\n",
    " ***\n",
    "****\n",
    "Hint: Count and print appropriate number of spaces in front of stars. \n",
    "Notice that there is one less space and one more star in each line.\n",
    "\"\"\"\n",
    "\n",
    "rows = int(input())\n",
    "for i in range(rows):\n",
    "        print((rows - i) * \" \" + '*' * (i+1))\n"
   ]
  },
  {
   "cell_type": "code",
   "execution_count": 27,
   "metadata": {},
   "outputs": [
    {
     "name": "stdout",
     "output_type": "stream",
     "text": [
      "4\n",
      "    *\n",
      "   ***\n",
      "  *****\n",
      " *******\n"
     ]
    }
   ],
   "source": [
    "#31\n",
    "\n",
    "\"\"\"\n",
    "Triangle - Isosceles\n",
    "Draw triangle of given height\n",
    "Sample input 1:\n",
    "3\n",
    "Sample output 1:\n",
    "  *\n",
    " ***\n",
    "*****\n",
    "\"\"\"\n",
    "\n",
    "n = int(input())\n",
    "\n",
    "for i in range(n):\n",
    "    print((n-i) * ' ' + (2*i+1) * '*')\n"
   ]
  },
  {
   "cell_type": "code",
   "execution_count": 25,
   "metadata": {},
   "outputs": [
    {
     "name": "stdout",
     "output_type": "stream",
     "text": [
      "3\n",
      "   *\n",
      "  ***\n",
      " *****\n",
      "  ***\n",
      "   *\n"
     ]
    }
   ],
   "source": [
    "#32\n",
    "\n",
    "\"\"\"\n",
    "Triangle - Isosceles\n",
    "Just draw the image of the above triangle once.  And then, the opposite, once.\n",
    "Sample input:\n",
    "3\n",
    "Sample output\n",
    "  *\n",
    " ***\n",
    "*****\n",
    " ***\n",
    "  *\n",
    "\"\"\"\n",
    "\n",
    "\n",
    "n = int(input())\n",
    "\n",
    "for i in range(n-1):\n",
    "    print((n-i) * ' ' + (2*i+1) * '*')\n",
    "for i in range(n-1, -1, -1):\n",
    "    print((n-i) * ' ' + (2*i+1) * '*')"
   ]
  },
  {
   "cell_type": "code",
   "execution_count": null,
   "metadata": {
    "collapsed": true
   },
   "outputs": [],
   "source": []
  }
 ],
 "metadata": {
  "kernelspec": {
   "display_name": "Python 3",
   "language": "python",
   "name": "python3"
  },
  "language_info": {
   "codemirror_mode": {
    "name": "ipython",
    "version": 3
   },
   "file_extension": ".py",
   "mimetype": "text/x-python",
   "name": "python",
   "nbconvert_exporter": "python",
   "pygments_lexer": "ipython3",
   "version": "3.6.3"
  }
 },
 "nbformat": 4,
 "nbformat_minor": 2
}
