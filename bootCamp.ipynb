{
 "cells": [
  {
   "cell_type": "code",
   "execution_count": 2,
   "metadata": {},
   "outputs": [
    {
     "name": "stdout",
     "output_type": "stream",
     "text": [
      "Enter the length in centimeter: 100\n",
      "100 = 1.0 meter and 0.001 kilometer\n"
     ]
    }
   ],
   "source": [
    "#enter length in centimeter and convert it to meter and kilometer\n",
    "\n",
    "len_cm = input(\"Enter the length in centimeter: \")\n",
    "len_m = int(len_cm) / 100\n",
    "len_km = int(len_cm) / 100000\n",
    "print(str(len_cm) + \" = \" + str(len_m) + \" meter and \" + str(len_km) + \" kilometer\")"
   ]
  },
  {
   "cell_type": "code",
   "execution_count": 3,
   "metadata": {},
   "outputs": [
    {
     "name": "stdout",
     "output_type": "stream",
     "text": [
      "Enter temp in celsius: 10\n",
      "10.0 celsius = 50.0 fahrenheit\n"
     ]
    }
   ],
   "source": [
    "#enter temperature in celsius and convert it to fahrenheit\n",
    "\n",
    "temp_cel = float(input(\"Enter temp in celsius: \"))\n",
    "temp_f = temp_cel * 9 / 5 + 32\n",
    "print(str(temp_cel) + \" celsius = \" + str(temp_f) + \" fahrenheit\")"
   ]
  },
  {
   "cell_type": "code",
   "execution_count": 4,
   "metadata": {},
   "outputs": [
    {
     "name": "stdout",
     "output_type": "stream",
     "text": [
      "Enter two numbers: \n",
      "2\n",
      "3\n",
      "2 to the power 3 = 8\n"
     ]
    }
   ],
   "source": [
    "#python program to find power of any number\n",
    "\n",
    "print(\"Enter two numbers: \")\n",
    "\n",
    "x = int(input())\n",
    "y = int(input())\n",
    "print(str(x) + \" to the power \" + str(y) + \" = \" + str(x ** y))"
   ]
  },
  {
   "cell_type": "code",
   "execution_count": 5,
   "metadata": {},
   "outputs": [
    {
     "name": "stdout",
     "output_type": "stream",
     "text": [
      "Enter a number: 3\n",
      "3 is Odd\n",
      "3 is Odd\n"
     ]
    }
   ],
   "source": [
    "#checking a number is even or odd\n",
    "\n",
    "#using modulus operator\n",
    "a = int(input(\"Enter a number: \"))\n",
    "if a % 2 == 0:\n",
    "    print(str(a) + \" is Even\")\n",
    "else:\n",
    "    print(str(a) + \" is Odd\")\n",
    "    \n",
    "#using bitwise operator\n",
    "if(a & 1 == 1):\n",
    "    print(str(a) + \" is Odd\")\n",
    "else:\n",
    "    print(str(a) + \" is Even\") "
   ]
  },
  {
   "cell_type": "code",
   "execution_count": 6,
   "metadata": {},
   "outputs": [
    {
     "name": "stdout",
     "output_type": "stream",
     "text": [
      "Enter a character: w\n"
     ]
    },
    {
     "data": {
      "text/plain": [
       "True"
      ]
     },
     "execution_count": 6,
     "metadata": {},
     "output_type": "execute_result"
    }
   ],
   "source": [
    "#checking wheather a character is alphabet or not\n",
    "\n",
    "char = input(\"Enter a character: \")\n",
    "char.isalpha()"
   ]
  },
  {
   "cell_type": "code",
   "execution_count": 7,
   "metadata": {},
   "outputs": [
    {
     "name": "stdout",
     "output_type": "stream",
     "text": [
      "4\n",
      "5\n",
      "6\n",
      "Maximum between these three: 6\n"
     ]
    }
   ],
   "source": [
    "#finding maximum between three numbers\n",
    "\n",
    "a = input()\n",
    "b = input()\n",
    "c = input()\n",
    "\n",
    "print(\"Maximum between these three: \" + str(max(a, b, c)))"
   ]
  },
  {
   "cell_type": "code",
   "execution_count": 8,
   "metadata": {},
   "outputs": [
    {
     "name": "stdout",
     "output_type": "stream",
     "text": [
      "Enter a number: 8362\n"
     ]
    },
    {
     "data": {
      "text/plain": [
       "4"
      ]
     },
     "execution_count": 8,
     "metadata": {},
     "output_type": "execute_result"
    }
   ],
   "source": [
    "#counting number of digits in a number\n",
    "\n",
    "num = input(\"Enter a number: \")\n",
    "len(num)"
   ]
  },
  {
   "cell_type": "code",
   "execution_count": null,
   "metadata": {
    "collapsed": true
   },
   "outputs": [],
   "source": []
  }
 ],
 "metadata": {
  "kernelspec": {
   "display_name": "Python 3",
   "language": "python",
   "name": "python3"
  },
  "language_info": {
   "codemirror_mode": {
    "name": "ipython",
    "version": 3
   },
   "file_extension": ".py",
   "mimetype": "text/x-python",
   "name": "python",
   "nbconvert_exporter": "python",
   "pygments_lexer": "ipython3",
   "version": "3.6.3"
  }
 },
 "nbformat": 4,
 "nbformat_minor": 2
}
